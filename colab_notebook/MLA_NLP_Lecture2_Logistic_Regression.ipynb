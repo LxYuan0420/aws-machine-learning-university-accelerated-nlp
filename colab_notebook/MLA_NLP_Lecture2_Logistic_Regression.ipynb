{
  "nbformat": 4,
  "nbformat_minor": 0,
  "metadata": {
    "colab": {
      "name": "MLA-NLP-Lecture2-Logistic-Regression.ipynb",
      "provenance": [],
      "collapsed_sections": [],
      "authorship_tag": "ABX9TyNJSSwmjOLswqMS6KG65OJf",
      "include_colab_link": true
    },
    "kernelspec": {
      "name": "python3",
      "display_name": "Python 3"
    }
  },
  "cells": [
    {
      "cell_type": "markdown",
      "metadata": {
        "id": "view-in-github",
        "colab_type": "text"
      },
      "source": [
        "<a href=\"https://colab.research.google.com/github/LxYuan0420/aws-machine-learning-university-accelerated-nlp/blob/master/colab_notebook/MLA_NLP_Lecture2_Logistic_Regression.ipynb\" target=\"_parent\"><img src=\"https://colab.research.google.com/assets/colab-badge.svg\" alt=\"Open In Colab\"/></a>"
      ]
    },
    {
      "cell_type": "code",
      "metadata": {
        "colab": {
          "base_uri": "https://localhost:8080/"
        },
        "id": "d4GAH9TW-iud",
        "outputId": "359c7c5c-4dab-492c-8bd8-62cc422e504d"
      },
      "source": [
        "from google.colab import drive\n",
        "drive.mount('/gdrive')"
      ],
      "execution_count": 1,
      "outputs": [
        {
          "output_type": "stream",
          "text": [
            "Mounted at /gdrive\n"
          ],
          "name": "stdout"
        }
      ]
    },
    {
      "cell_type": "code",
      "metadata": {
        "colab": {
          "base_uri": "https://localhost:8080/"
        },
        "id": "3yGqpLQK-iue",
        "outputId": "b125cf39-ce89-4178-ec11-c71f439a5dc0"
      },
      "source": [
        "%cd /gdrive/MyDrive/Colab Notebooks/git/aws-machine-learning-university-accelerated-nlp/colab_notebooks"
      ],
      "execution_count": 2,
      "outputs": [
        {
          "output_type": "stream",
          "text": [
            "/gdrive/MyDrive/Colab Notebooks/git/aws-machine-learning-university-accelerated-nlp/colab_notebooks\n"
          ],
          "name": "stdout"
        }
      ]
    },
    {
      "cell_type": "markdown",
      "metadata": {
        "id": "p0igImjH9umt"
      },
      "source": [
        "**Machine Learning Accelerator - Natural Language Processing - Lecture 2**\r\n",
        "\r\n",
        "Linear Regression Models and Regularization\r\n",
        "In this notebook, we go over Linear Regression methods (with and without regularization: LinearRegression, Ridge, Lasso, ElasticNet) to predict the log_votes field of our review dataset.\r\n",
        "\r\n",
        "1. Reading the dataset\r\n",
        "1. Exploratory data analysis\r\n",
        "1. Stop word removal and stemming\r\n",
        "1. Train - Validation Split\r\n",
        "1. Data processing with Pipeline and ColumnTransform\r\n",
        "1. Train the regressor\r\n",
        "1. Fitting Linear Regression models and checking the validation performance Find more details on the classical Linear Regression models with and without regularization here: https://scikit-learn.org/stable/modules/classes.html#module-sklearn.linear_model\r\n",
        "1. Ideas for improvement\r\n",
        "\r\n",
        "\r\n",
        "Overall dataset schema:\r\n",
        "\r\n",
        "1. reviewText: Text of the review\r\n",
        "1. summary: Summary of the review\r\n",
        "1. verified: Whether the purchase was verified (True or False)\r\n",
        "1. time: UNIX timestamp for the review\r\n",
        "1. rating: Rating of the review\r\n",
        "1. log_votes: Logarithm-adjusted votes log(1+votes)\r\n",
        "1. isPositive: Whether the review is positive or negative (1 or 0)"
      ]
    },
    {
      "cell_type": "markdown",
      "metadata": {
        "id": "1Jk9fzP_-MQ8"
      },
      "source": [
        "**1. Reading the dataset**"
      ]
    },
    {
      "cell_type": "code",
      "metadata": {
        "colab": {
          "base_uri": "https://localhost:8080/",
          "height": 189
        },
        "id": "puoABFXF-W7D",
        "outputId": "1ba78934-8ba1-40e5-d794-60c2f7e98765"
      },
      "source": [
        "import pandas as pd\r\n",
        "\r\n",
        "df = pd.read_csv('../data/examples/AMAZON-REVIEW-DATA-CLASSIFICATION.csv')\r\n",
        "df.head()"
      ],
      "execution_count": 3,
      "outputs": [
        {
          "output_type": "execute_result",
          "data": {
            "text/html": [
              "<div>\n",
              "<style scoped>\n",
              "    .dataframe tbody tr th:only-of-type {\n",
              "        vertical-align: middle;\n",
              "    }\n",
              "\n",
              "    .dataframe tbody tr th {\n",
              "        vertical-align: top;\n",
              "    }\n",
              "\n",
              "    .dataframe thead th {\n",
              "        text-align: right;\n",
              "    }\n",
              "</style>\n",
              "<table border=\"1\" class=\"dataframe\">\n",
              "  <thead>\n",
              "    <tr style=\"text-align: right;\">\n",
              "      <th></th>\n",
              "      <th>reviewText</th>\n",
              "      <th>summary</th>\n",
              "      <th>verified</th>\n",
              "      <th>time</th>\n",
              "      <th>log_votes</th>\n",
              "      <th>isPositive</th>\n",
              "    </tr>\n",
              "  </thead>\n",
              "  <tbody>\n",
              "    <tr>\n",
              "      <th>0</th>\n",
              "      <td>PURCHASED FOR YOUNGSTER WHO\\nINHERITED MY \"TOO...</td>\n",
              "      <td>IDEAL FOR BEGINNER!</td>\n",
              "      <td>True</td>\n",
              "      <td>1361836800</td>\n",
              "      <td>0.000000</td>\n",
              "      <td>1.0</td>\n",
              "    </tr>\n",
              "    <tr>\n",
              "      <th>1</th>\n",
              "      <td>unable to open or use</td>\n",
              "      <td>Two Stars</td>\n",
              "      <td>True</td>\n",
              "      <td>1452643200</td>\n",
              "      <td>0.000000</td>\n",
              "      <td>0.0</td>\n",
              "    </tr>\n",
              "    <tr>\n",
              "      <th>2</th>\n",
              "      <td>Waste of money!!! It wouldn't load to my system.</td>\n",
              "      <td>Dont buy it!</td>\n",
              "      <td>True</td>\n",
              "      <td>1433289600</td>\n",
              "      <td>0.000000</td>\n",
              "      <td>0.0</td>\n",
              "    </tr>\n",
              "    <tr>\n",
              "      <th>3</th>\n",
              "      <td>I attempted to install this OS on two differen...</td>\n",
              "      <td>I attempted to install this OS on two differen...</td>\n",
              "      <td>True</td>\n",
              "      <td>1518912000</td>\n",
              "      <td>0.000000</td>\n",
              "      <td>0.0</td>\n",
              "    </tr>\n",
              "    <tr>\n",
              "      <th>4</th>\n",
              "      <td>I've spent 14 fruitless hours over the past tw...</td>\n",
              "      <td>Do NOT Download.</td>\n",
              "      <td>True</td>\n",
              "      <td>1441929600</td>\n",
              "      <td>1.098612</td>\n",
              "      <td>0.0</td>\n",
              "    </tr>\n",
              "  </tbody>\n",
              "</table>\n",
              "</div>"
            ],
            "text/plain": [
              "                                          reviewText  ... isPositive\n",
              "0  PURCHASED FOR YOUNGSTER WHO\\nINHERITED MY \"TOO...  ...        1.0\n",
              "1                              unable to open or use  ...        0.0\n",
              "2   Waste of money!!! It wouldn't load to my system.  ...        0.0\n",
              "3  I attempted to install this OS on two differen...  ...        0.0\n",
              "4  I've spent 14 fruitless hours over the past tw...  ...        0.0\n",
              "\n",
              "[5 rows x 6 columns]"
            ]
          },
          "metadata": {
            "tags": []
          },
          "execution_count": 3
        }
      ]
    },
    {
      "cell_type": "markdown",
      "metadata": {
        "id": "oZ2Xvb1O-d11"
      },
      "source": [
        "**2. Exploratory data analysis**"
      ]
    },
    {
      "cell_type": "code",
      "metadata": {
        "colab": {
          "base_uri": "https://localhost:8080/"
        },
        "id": "RPobsVcs-8fU",
        "outputId": "40bc4aed-a914-419d-d1bf-c4bb0118b154"
      },
      "source": [
        "df[\"isPositive\"].value_counts()"
      ],
      "execution_count": 4,
      "outputs": [
        {
          "output_type": "execute_result",
          "data": {
            "text/plain": [
              "1.0    43692\n",
              "0.0    26308\n",
              "Name: isPositive, dtype: int64"
            ]
          },
          "metadata": {
            "tags": []
          },
          "execution_count": 4
        }
      ]
    },
    {
      "cell_type": "code",
      "metadata": {
        "colab": {
          "base_uri": "https://localhost:8080/"
        },
        "id": "--LXJzEj_HXF",
        "outputId": "d49c90d8-e275-4164-8771-c0df37520074"
      },
      "source": [
        "df.isna().sum()"
      ],
      "execution_count": 5,
      "outputs": [
        {
          "output_type": "execute_result",
          "data": {
            "text/plain": [
              "reviewText    11\n",
              "summary       14\n",
              "verified       0\n",
              "time           0\n",
              "log_votes      0\n",
              "isPositive     0\n",
              "dtype: int64"
            ]
          },
          "metadata": {
            "tags": []
          },
          "execution_count": 5
        }
      ]
    },
    {
      "cell_type": "markdown",
      "metadata": {
        "id": "LSjjLGlY_Lnc"
      },
      "source": [
        "**3. Text Processing: Stop words removal and stemming**\r\n"
      ]
    },
    {
      "cell_type": "code",
      "metadata": {
        "colab": {
          "base_uri": "https://localhost:8080/"
        },
        "id": "-z69dBL9_Uta",
        "outputId": "524412a1-34ba-46bb-c6c0-1027d83a0f91"
      },
      "source": [
        "import nltk\r\n",
        "\r\n",
        "nltk.download(\"punkt\")\r\n",
        "nltk.download(\"stopwords\")"
      ],
      "execution_count": 6,
      "outputs": [
        {
          "output_type": "stream",
          "text": [
            "[nltk_data] Downloading package punkt to /root/nltk_data...\n",
            "[nltk_data]   Unzipping tokenizers/punkt.zip.\n",
            "[nltk_data] Downloading package stopwords to /root/nltk_data...\n",
            "[nltk_data]   Unzipping corpora/stopwords.zip.\n"
          ],
          "name": "stdout"
        },
        {
          "output_type": "execute_result",
          "data": {
            "text/plain": [
              "True"
            ]
          },
          "metadata": {
            "tags": []
          },
          "execution_count": 6
        }
      ]
    },
    {
      "cell_type": "code",
      "metadata": {
        "id": "ll7iPUdB_YQT"
      },
      "source": [
        "\r\n",
        "import nltk, re\r\n",
        "from nltk.corpus import stopwords\r\n",
        "from nltk.stem import SnowballStemmer\r\n",
        "from nltk.tokenize import word_tokenize\r\n",
        "\r\n",
        "# Let's get a list of stop words from the NLTK library\r\n",
        "stop = stopwords.words('english')\r\n",
        "\r\n",
        "# These words are important for our problem. We don't want to remove them.\r\n",
        "excluding = ['against', 'not', 'don', \"don't\",'ain', 'aren', \"aren't\", 'couldn', \"couldn't\",\r\n",
        "             'didn', \"didn't\", 'doesn', \"doesn't\", 'hadn', \"hadn't\", 'hasn', \"hasn't\", \r\n",
        "             'haven', \"haven't\", 'isn', \"isn't\", 'mightn', \"mightn't\", 'mustn', \"mustn't\",\r\n",
        "             'needn', \"needn't\",'shouldn', \"shouldn't\", 'wasn', \"wasn't\", 'weren', \r\n",
        "             \"weren't\", 'won', \"won't\", 'wouldn', \"wouldn't\"]\r\n",
        "\r\n",
        "# New stop word list\r\n",
        "stop_words = [word for word in stop if word not in excluding]\r\n",
        "\r\n",
        "snow = SnowballStemmer('english')\r\n",
        "\r\n",
        "def process_text(texts): \r\n",
        "    final_text_list=[]\r\n",
        "    for sent in texts:\r\n",
        "        \r\n",
        "        # Check if the sentence is a missing value\r\n",
        "        if isinstance(sent, str) == False:\r\n",
        "            sent = \"\"\r\n",
        "            \r\n",
        "        filtered_sentence=[]\r\n",
        "        \r\n",
        "        sent = sent.lower() # Lowercase \r\n",
        "        sent = sent.strip() # Remove leading/trailing whitespace\r\n",
        "        sent = re.sub('\\s+', ' ', sent) # Remove extra space and tabs\r\n",
        "        sent = re.compile('<.*?>').sub('', sent) # Remove HTML tags/markups:\r\n",
        "        \r\n",
        "        for w in word_tokenize(sent):\r\n",
        "            # We are applying some custom filtering here, feel free to try different things\r\n",
        "            # Check if it is not numeric and its length>2 and not in stop words\r\n",
        "            if(not w.isnumeric()) and (len(w)>2) and (w not in stop_words):  \r\n",
        "                # Stem and add to filtered list\r\n",
        "                filtered_sentence.append(snow.stem(w))\r\n",
        "        final_string = \" \".join(filtered_sentence) #final string of cleaned words\r\n",
        " \r\n",
        "        final_text_list.append(final_string)\r\n",
        "        \r\n",
        "    return final_text_list"
      ],
      "execution_count": 7,
      "outputs": []
    },
    {
      "cell_type": "markdown",
      "metadata": {
        "id": "ka8sUwd6_gPr"
      },
      "source": [
        "**4. Train - validation Split**\r\n",
        "\r\n",
        "9/1 split"
      ]
    },
    {
      "cell_type": "code",
      "metadata": {
        "id": "GkSmRYU5_lDE"
      },
      "source": [
        "from sklearn.model_selection import train_test_split\r\n",
        "\r\n",
        "X_train, X_val, y_train, y_val = train_test_split(df[[\"reviewText\", \"summary\", \"time\", \"log_votes\"]],\r\n",
        "                                                  df[\"isPositive\"],\r\n",
        "                                                  test_size=0.1,\r\n",
        "                                                  shuffle=True,\r\n",
        "                                                  random_state=42)"
      ],
      "execution_count": 10,
      "outputs": []
    },
    {
      "cell_type": "code",
      "metadata": {
        "colab": {
          "base_uri": "https://localhost:8080/"
        },
        "id": "fR2bjA8PBavo",
        "outputId": "84282fd9-c559-4c69-d4c1-10add5061ec3"
      },
      "source": [
        "print(\"Processing the reviewText field\")\r\n",
        "\r\n",
        "X_train[\"reviewText\"] = process_text(X_train[\"reviewText\"].tolist())\r\n",
        "X_val[\"reviewText\"] = process_text(X_val[\"reviewText\"].tolist())\r\n"
      ],
      "execution_count": 11,
      "outputs": [
        {
          "output_type": "stream",
          "text": [
            "Processing the reviewText field\n"
          ],
          "name": "stdout"
        }
      ]
    },
    {
      "cell_type": "code",
      "metadata": {
        "id": "wi2YnfIEBuRW"
      },
      "source": [
        "X_train[\"summary\"] = process_text(X_train[\"summary\"].tolist())\r\n",
        "X_val[\"summary\"] = process_text(X_val[\"summary\"].tolist())"
      ],
      "execution_count": 12,
      "outputs": []
    },
    {
      "cell_type": "markdown",
      "metadata": {
        "id": "gUSBfmapB1Fd"
      },
      "source": [
        "**5. Data processing with Pipeline and ColumnTransform**\r\n",
        "\r\n",
        "In the previous examples, we have seen how to use pipeline to prepare a data field for our machine learning model. This time, we will focus on multiple fields: numeric and text fields. We are using linear regression model from Sklearn: https://scikit-learn.org/stable/modules/classes.html#module-sklearn.linear_model.\r\n",
        "\r\n",
        "For the numerical features pipeline, the numerical_processor below, we use a MinMaxScaler (don't have to scale features when using Decision Trees, but it's a good idea to see how to use more data transforms). If different processing is desired for different numerical features, different pipelines should be built - just like shown below for the two text features.\r\n",
        "For the numerical features pipeline, the text_processor below, we use CountVectorizer() for the text fields.\r\n",
        "The selective preparations of the dataset features are then put together into a collective ColumnTransformer, to be finally used in a Pipeline along with an estimator. This ensures that the transforms are performed automatically on the raw data when fitting the model and when making predictions, such as when evaluating the model on a validation dataset via cross-validation or making predictions on a test dataset in the future."
      ]
    },
    {
      "cell_type": "code",
      "metadata": {
        "id": "7qwMwMWzCbBq"
      },
      "source": [
        "numerical_features = [\"time\", \"log_votes\"]\r\n",
        "text_features = [\"summary\", \"reviewText\"]\r\n",
        "\r\n",
        "model_features = numerical_features + text_features\r\n",
        "model_target = \"isPositive\""
      ],
      "execution_count": 13,
      "outputs": []
    },
    {
      "cell_type": "code",
      "metadata": {
        "id": "sZGPPQfYB57s"
      },
      "source": [
        "from sklearn.impute import SimpleImputer\r\n",
        "from sklearn.preprocessing import MinMaxScaler\r\n",
        "from sklearn.feature_extraction.text import CountVectorizer\r\n",
        "from sklearn.pipeline import Pipeline\r\n",
        "from sklearn.compose import ColumnTransformer\r\n",
        "from sklearn.linear_model import LogisticRegression\r\n",
        "\r\n",
        "# Column Transformer\r\n",
        "numerical_processor = Pipeline([(\"num_scalar\", MinMaxScaler())])\r\n",
        "\r\n",
        "# preprocess text features\r\n",
        "text_preprocessor_0 = Pipeline([(\"text_vect_0\", CountVectorizer(binary=True, max_features=50))])\r\n",
        "text_preprocessor_1 = Pipeline([(\"text_vect_1\", CountVectorizer(binary=True, max_features=150))])\r\n",
        "\r\n",
        "data_preprocessor = ColumnTransformer([\r\n",
        "    (\"numerical_pre\", numerical_processor, numerical_features),\r\n",
        "    (\"text_pre_0\", text_preprocessor_0, text_features[0]),\r\n",
        "    (\"text_pre_1\", text_preprocessor_1, text_features[1])\r\n",
        "])\r\n",
        "\r\n",
        "\r\n",
        "# Pipeline \r\n",
        "pipeline = Pipeline([\r\n",
        "    (\"data_preprocessing\", data_preprocessor),\r\n",
        "    (\"logisticRegression\", LogisticRegression(penalty=\"l2\", C=0.1))\r\n",
        "])"
      ],
      "execution_count": 15,
      "outputs": []
    },
    {
      "cell_type": "markdown",
      "metadata": {
        "id": "rUNlyzsaFIm-"
      },
      "source": [
        "**6. Train Regressor**"
      ]
    },
    {
      "cell_type": "code",
      "metadata": {
        "colab": {
          "base_uri": "https://localhost:8080/"
        },
        "id": "oSAdRsEtFZoE",
        "outputId": "13f484e9-72bb-46c0-98c3-4e84853d5da7"
      },
      "source": [
        "pipeline.fit(X_train, y_train.values)"
      ],
      "execution_count": 16,
      "outputs": [
        {
          "output_type": "execute_result",
          "data": {
            "text/plain": [
              "Pipeline(memory=None,\n",
              "         steps=[('data_preprocessing',\n",
              "                 ColumnTransformer(n_jobs=None, remainder='drop',\n",
              "                                   sparse_threshold=0.3,\n",
              "                                   transformer_weights=None,\n",
              "                                   transformers=[('numerical_pre',\n",
              "                                                  Pipeline(memory=None,\n",
              "                                                           steps=[('num_scalar',\n",
              "                                                                   MinMaxScaler(copy=True,\n",
              "                                                                                feature_range=(0,\n",
              "                                                                                               1)))],\n",
              "                                                           verbose=False),\n",
              "                                                  ['time', 'log_votes']),\n",
              "                                                 ('text_pre_0',\n",
              "                                                  Pipeline(memory=None,\n",
              "                                                           steps=[('text_ve...\n",
              "                                                                                   tokenizer=None,\n",
              "                                                                                   vocabulary=None))],\n",
              "                                                           verbose=False),\n",
              "                                                  'reviewText')],\n",
              "                                   verbose=False)),\n",
              "                ('logisticRegression',\n",
              "                 LogisticRegression(C=0.1, class_weight=None, dual=False,\n",
              "                                    fit_intercept=True, intercept_scaling=1,\n",
              "                                    l1_ratio=None, max_iter=100,\n",
              "                                    multi_class='auto', n_jobs=None,\n",
              "                                    penalty='l2', random_state=None,\n",
              "                                    solver='lbfgs', tol=0.0001, verbose=0,\n",
              "                                    warm_start=False))],\n",
              "         verbose=False)"
            ]
          },
          "metadata": {
            "tags": []
          },
          "execution_count": 16
        }
      ]
    },
    {
      "cell_type": "markdown",
      "metadata": {
        "id": "qQEyulqHFfBl"
      },
      "source": [
        "**7. Fitting Linear Regression models and checking the validation performance**\r\n",
        "\r\n",
        "7.1 LinearRegression\r\n",
        "Let's first fit LinearRegression from Sklearn library, and check the performance on the validation dataset. Using the coef_ atribute, we can also print the learned weights of the model.\r\n",
        "\r\n",
        "Find more details on LinearRegression here: https://scikit-learn.org/stable/modules/generated/sklearn.linear_model.LinearRegression.html"
      ]
    },
    {
      "cell_type": "code",
      "metadata": {
        "colab": {
          "base_uri": "https://localhost:8080/"
        },
        "id": "gJqlKH3cFjyM",
        "outputId": "f42e9b9d-252e-4d4c-eb40-3b45ea678a07"
      },
      "source": [
        "from sklearn.metrics import confusion_matrix, classification_report, accuracy_score\r\n",
        "\r\n",
        "val_pred = pipeline.predict(X_val)\r\n",
        "print(classification_report(y_val.values, val_pred))\r\n",
        "print(f\"Accuracy on validation set: {accuracy_score(y_val.values, val_pred)}\")\r\n"
      ],
      "execution_count": 18,
      "outputs": [
        {
          "output_type": "stream",
          "text": [
            "              precision    recall  f1-score   support\n",
            "\n",
            "         0.0       0.81      0.77      0.79      2557\n",
            "         1.0       0.87      0.90      0.88      4443\n",
            "\n",
            "    accuracy                           0.85      7000\n",
            "   macro avg       0.84      0.83      0.84      7000\n",
            "weighted avg       0.85      0.85      0.85      7000\n",
            "\n",
            "Accuracy on validation set: 0.8502857142857143\n"
          ],
          "name": "stdout"
        }
      ]
    },
    {
      "cell_type": "markdown",
      "metadata": {
        "id": "iUbpqZkpFtj1"
      },
      "source": [
        "**7.2 Ridge (Linear Regression with L2 regularization)**\r\n",
        "\r\n",
        "Let's now fit Ridge from Sklearn library, and check the performance on the validation dataset.\r\n",
        "\r\n",
        "Find more details on Ridge here: https://scikit-learn.org/stable/modules/generated/sklearn.linear_model.Ridge.html\r\n",
        "\r\n",
        "To improve the performance of a LinearRegression model, Ridge is tuning model complexity by adding a $L_2$ penalty score for complexity to the model cost function:\r\n",
        "\r\n",
        "$$\\text{C}_{\\text{regularized}}(\\textbf{w}) = \\text{C}(\\textbf{w}) +  {alpha}∗||\\textbf{w}||_2^2$$\r\n",
        "where $\\textbf{w}$ is the model weights vector, and $||\\textbf{w}||_2^2 = \\sum \\textbf{w}_i^2$.\r\n",
        "\r\n",
        "The strength of the regularization is controlled by the regularizer parameter, alpha: smaller value of $alpha$, weaker regularization; larger value of $alpha$, stronger regularization."
      ]
    },
    {
      "cell_type": "code",
      "metadata": {
        "colab": {
          "base_uri": "https://localhost:8080/"
        },
        "id": "7xlycbAqFyPs",
        "outputId": "3943ad56-e41a-4ad3-c9b0-0823bc033cec"
      },
      "source": [
        "from sklearn.linear_model import Ridge\r\n",
        "from sklearn.metrics import r2_score, mean_squared_error\r\n",
        "\r\n",
        "ridge_pipeline = Pipeline([\r\n",
        "    (\"data_preprocessing\", data_preprocessor),\r\n",
        "    (\"ridge\", Ridge(alpha=100))\r\n",
        "])\r\n",
        "\r\n",
        "ridge_pipeline.fit(X_train[model_features], y_train.values)\r\n",
        "ridgeRegressor_val_predictions = ridge_pipeline.predict(X_val[model_features])\r\n",
        "\r\n",
        "print(\"Ridge on Validation: Mean_squared_error: %f,  R_square_score: %f\" % \\\r\n",
        "      (mean_squared_error(y_val, ridgeRegressor_val_predictions),r2_score(y_val, ridgeRegressor_val_predictions)))"
      ],
      "execution_count": null,
      "outputs": [
        {
          "output_type": "stream",
          "text": [
            "Ridge on Validation: Mean_squared_error: 0.649729,  R_square_score: 0.360753\n"
          ],
          "name": "stdout"
        }
      ]
    },
    {
      "cell_type": "markdown",
      "metadata": {
        "id": "-Kuyh7mcGNLP"
      },
      "source": [
        "**8. Ideas for improvement: Probability threshold calibration (optional)**\r\n",
        "(Go to top)\r\n",
        "\r\n",
        "Besides tuning LogisticRegression hyperparameter values, one other path to improve a classifier's performance is to dig deeper into how the classifier actually assigns class membership.\r\n",
        "\r\n",
        "Binary predictions versus probability predictions. We often use classifier.predict() to examine classifier binary predictions, while in fact the outputs of most classifiers are real-valued, not binary. For most classifiers in sklearn, the method classifier.predict_proba() returns class probabilities as a two-dimensional numpy array of shape (n_samples, n_classes) where the classes are lexicographically ordered.\r\n",
        "\r\n",
        "For our example, let's look at the first 5 predictions we made, in binary format and in real-valued probability format:"
      ]
    },
    {
      "cell_type": "code",
      "metadata": {
        "colab": {
          "base_uri": "https://localhost:8080/"
        },
        "id": "wPxiedpsGRT0",
        "outputId": "92c20589-3b16-4f2a-e6b2-0705e80fc52b"
      },
      "source": [
        "pipeline.predict(X_val[:5])"
      ],
      "execution_count": 19,
      "outputs": [
        {
          "output_type": "execute_result",
          "data": {
            "text/plain": [
              "array([0., 1., 1., 0., 1.])"
            ]
          },
          "metadata": {
            "tags": []
          },
          "execution_count": 19
        }
      ]
    },
    {
      "cell_type": "code",
      "metadata": {
        "colab": {
          "base_uri": "https://localhost:8080/"
        },
        "id": "-vPZ8g0WZcJ5",
        "outputId": "c2f6076e-3bc3-4b82-d1dd-108caca6d554"
      },
      "source": [
        "pipeline.predict_proba(X_val[:5])"
      ],
      "execution_count": 20,
      "outputs": [
        {
          "output_type": "execute_result",
          "data": {
            "text/plain": [
              "array([[0.98079652, 0.01920348],\n",
              "       [0.18440064, 0.81559936],\n",
              "       [0.14161248, 0.85838752],\n",
              "       [0.98634217, 0.01365783],\n",
              "       [0.00965051, 0.99034949]])"
            ]
          },
          "metadata": {
            "tags": []
          },
          "execution_count": 20
        }
      ]
    },
    {
      "cell_type": "markdown",
      "metadata": {
        "id": "hzGXVCcSGS4k"
      },
      "source": [
        "How are the predicted probabilities used to decide class membership? On each row of predict_proba output, the probabilities values sum to 1. There are two columns, one for each response class: column 0 - predicted probability that each observation is a member of class 0; column 1 - predicted probability that each observation is a member of class 1. From the predicted probabilities, choose the class with the highest probability.\r\n",
        "\r\n",
        "The key here is that a threshold of 0.5 is used by default (for binary problems) to convert predicted probabilities into class predictions: class 0, if predicted probability is less than 0.5; class 1, if predicted probability is greater than 0.5.\r\n",
        "\r\n",
        "Can we improve classifier performance by changing the classification threshold? Let's adjust the classification threshold to influence the performance of the classifier.\r\n",
        "\r\n",
        "**8.1 Threshold calibration to improve model accuracy**\r\n",
        "\r\n",
        "We calculate the accuracy using different values for the classification threshold, and pick the threshold that resulted in the highest accuracy."
      ]
    },
    {
      "cell_type": "code",
      "metadata": {
        "colab": {
          "base_uri": "https://localhost:8080/",
          "height": 331
        },
        "id": "2DLsS2QSGXq7",
        "outputId": "6b9de00a-4871-48db-f74c-3d394ce3589c"
      },
      "source": [
        "import numpy as np\r\n",
        "import matplotlib.pyplot as plt\r\n",
        "\r\n",
        "highest_accuracy = 0\r\n",
        "threshold_highest_accuracy = 0\r\n",
        "\r\n",
        "thresholds = np.arange(0, 1, 0.01)\r\n",
        "scores = []\r\n",
        "for t in thresholds:\r\n",
        "    y_val_other = (pipeline.predict_proba(X_val)[:,1] >= t).astype(float)\r\n",
        "    score = accuracy_score(y_val, y_val_other)\r\n",
        "    scores.append(score)\r\n",
        "    if (score > highest_accuracy):\r\n",
        "        highest_accuracy = score\r\n",
        "        threshold_highest_accuracy = t\r\n",
        "print(f\"Highest Acc on Val: {highest_accuracy}\")\r\n",
        "print(f\"Best threshold to get highest Acc on Val: {threshold_highest_accuracy}\")\r\n",
        "\r\n",
        "# Let's plot the accuracy versus different choices of thresholds\r\n",
        "plt.plot([0.5, 0.5], [np.min(scores), np.max(scores)], linestyle='--')\r\n",
        "plt.plot(thresholds, scores, marker='.')\r\n",
        "plt.title('Accuracy versus different choices of thresholds')\r\n",
        "plt.xlabel('Threshold')\r\n",
        "plt.ylabel('Accuracy')\r\n",
        "plt.show()"
      ],
      "execution_count": 22,
      "outputs": [
        {
          "output_type": "stream",
          "text": [
            "Highest Acc on Val: 0.8504285714285714\n",
            "Best threshold to get highest Acc on Val: 0.55\n"
          ],
          "name": "stdout"
        },
        {
          "output_type": "display_data",
          "data": {
            "image/png": "[encoded data removed]",
            "text/plain": [
              "<Figure size 432x288 with 1 Axes>"
            ]
          },
          "metadata": {
            "tags": [],
            "needs_background": "light"
          }
        }
      ]
    },
    {
      "cell_type": "code",
      "metadata": {
        "id": "yPHTN6jIGZaM"
      },
      "source": [
        "# F1 score\r\n",
        "\r\n",
        "from sklearn.metrics import precision_recall_curve\r\n",
        "\r\n",
        "# Calculate the precision and recall using different values for the classification threshold\r\n",
        "val_predictions_probs = pipeline.predict_proba(X_val)\r\n",
        "precisions, recalls, thresholds = precision_recall_curve(y_val, val_predictions_probs[:, 1])"
      ],
      "execution_count": 29,
      "outputs": []
    },
    {
      "cell_type": "code",
      "metadata": {
        "colab": {
          "base_uri": "https://localhost:8080/",
          "height": 313
        },
        "id": "4v_0fOOcdEbw",
        "outputId": "9c2cb1db-5ffc-4f05-cc21-16bcd0bed703"
      },
      "source": [
        "import numpy as np\r\n",
        "import matplotlib.pyplot as plt\r\n",
        "\r\n",
        "# Calculate the F1 score using different values for the classification threshold, \r\n",
        "# and pick the threshold that resulted in the highest F1 score.\r\n",
        "highest_f1 = 0\r\n",
        "threshold_highest_f1 = 0\r\n",
        "\r\n",
        "f1_scores = []\r\n",
        "for id, threhold in enumerate(thresholds):\r\n",
        "    f1_score = 2*precisions[id]*recalls[id]/(precisions[id]+recalls[id])\r\n",
        "    f1_scores.append(f1_score)\r\n",
        "    if(f1_score > highest_f1):\r\n",
        "        highest_f1 = f1_score\r\n",
        "        threshold_highest_f1 = threhold\r\n",
        "print(\"Highest F1 score on Validation:\", highest_f1, \\\r\n",
        "      \", Threshold for the highest F1 score:\", threshold_highest_f1)\r\n",
        "\r\n",
        "# Let's plot the F1 score versus different choices of thresholds\r\n",
        "plt.plot([0.5, 0.5], [np.min(f1_scores), np.max(f1_scores)], linestyle='--')\r\n",
        "plt.plot(thresholds, f1_scores, marker='.')\r\n",
        "plt.title('F1 Score versus different choices of thresholds')\r\n",
        "plt.xlabel('Threshold')\r\n",
        "plt.ylabel('F1 Score')\r\n",
        "plt.show()"
      ],
      "execution_count": 30,
      "outputs": [
        {
          "output_type": "stream",
          "text": [
            "Highest F1 score on Validation: 0.8841402337228715 , Threshold for the highest F1 score: 0.506274101066882\n"
          ],
          "name": "stdout"
        },
        {
          "output_type": "display_data",
          "data": {
            "image/png": "[encoded data removed]",
            "text/plain": [
              "<Figure size 432x288 with 1 Axes>"
            ]
          },
          "metadata": {
            "tags": [],
            "needs_background": "light"
          }
        }
      ]
    },
    {
      "cell_type": "code",
      "metadata": {
        "colab": {
          "base_uri": "https://localhost:8080/"
        },
        "id": "mRo2FMt2dhwQ",
        "outputId": "30bfb372-c756-4313-83ba-e00cb3b920cf"
      },
      "source": [
        "thresholds"
      ],
      "execution_count": 32,
      "outputs": [
        {
          "output_type": "execute_result",
          "data": {
            "text/plain": [
              "array([0.00363552, 0.00369655, 0.00383712, ..., 0.99991239, 0.99992963,\n",
              "       0.99999169])"
            ]
          },
          "metadata": {
            "tags": []
          },
          "execution_count": 32
        }
      ]
    },
    {
      "cell_type": "code",
      "metadata": {
        "colab": {
          "base_uri": "https://localhost:8080/"
        },
        "id": "4JrvtFZ8fbdP",
        "outputId": "66d8e5c7-1f5d-40b2-870a-8cd89489079a"
      },
      "source": [
        "len(thresholds)"
      ],
      "execution_count": 34,
      "outputs": [
        {
          "output_type": "execute_result",
          "data": {
            "text/plain": [
              "6965"
            ]
          },
          "metadata": {
            "tags": []
          },
          "execution_count": 34
        }
      ]
    },
    {
      "cell_type": "code",
      "metadata": {
        "id": "TEV66kpAfepX"
      },
      "source": [
        ""
      ],
      "execution_count": null,
      "outputs": []
    }
  ]
}