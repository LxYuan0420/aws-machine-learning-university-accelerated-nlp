{
  "nbformat": 4,
  "nbformat_minor": 0,
  "metadata": {
    "colab": {
      "name": "MLA-NLP-Lecture3-Neural-Networks-PyTorch.ipynb",
      "provenance": [],
      "collapsed_sections": [],
      "authorship_tag": "ABX9TyOM38yxh2OB+Wp8RxZn7lHv",
      "include_colab_link": true
    },
    "kernelspec": {
      "name": "python3",
      "display_name": "Python 3"
    }
  },
  "cells": [
    {
      "cell_type": "markdown",
      "metadata": {
        "id": "view-in-github",
        "colab_type": "text"
      },
      "source": [
        "<a href=\"https://colab.research.google.com/github/LxYuan0420/aws-machine-learning-university-accelerated-nlp/blob/master/colab_notebooks/MLA_NLP_Lecture3_Neural_Networks_PyTorch.ipynb\" target=\"_parent\"><img src=\"https://colab.research.google.com/assets/colab-badge.svg\" alt=\"Open In Colab\"/></a>"
      ]
    },
    {
      "cell_type": "markdown",
      "metadata": {
        "id": "w9fnrFCY89DA"
      },
      "source": [
        "**Machine Learning Accelerator - Natural Language Processing - Lecture 3**\r\n",
        "\r\n",
        "**Neural Networks with PyTorch**\r\n",
        "\r\n",
        "In this notebook, we will build, train and validate a Neural Network using PyTorch.\r\n",
        "\r\n",
        "- Implementing a neural network with PyTorch\r\n",
        "- Loss Functions\r\n",
        "- Training\r\n",
        "- Example - Binary Classification\r\n",
        "- Natural Language Processing Context\r\n",
        "\r\n",
        "**1. Implementing a neural network with PyTorch**\r\n",
        "\r\n",
        "(Go to top)\r\n",
        "\r\n",
        "Let's implement a simple neural network with two hidden layers of size 64 and 128 using the sequential mode (Adding things in sequence). We will have 3 inputs, 2 hidden layers and 1 output layer. Some drop-outs attached to the hidden layers."
      ]
    },
    {
      "cell_type": "code",
      "metadata": {
        "id": "f4dUDOZy-Ckl"
      },
      "source": [
        "import torch\r\n",
        "import torch.nn as nn\r\n",
        "import time"
      ],
      "execution_count": 17,
      "outputs": []
    },
    {
      "cell_type": "code",
      "metadata": {
        "colab": {
          "base_uri": "https://localhost:8080/"
        },
        "id": "mco1sLDh-OK9",
        "outputId": "eb294554-d1ee-49c9-e60c-d726a1b05135"
      },
      "source": [
        "net = nn.Sequential(\r\n",
        "    nn.Linear(in_features=3, out_features=64),\r\n",
        "    nn.Tanh(),\r\n",
        "    nn.Dropout(p=.4),\r\n",
        "    nn.Linear(64,64),\r\n",
        "    nn.Tanh(), \r\n",
        "    nn.Dropout(p=.3),\r\n",
        "    nn.Linear(64,1),\r\n",
        ")\r\n",
        "\r\n",
        "print(net)"
      ],
      "execution_count": 2,
      "outputs": [
        {
          "output_type": "stream",
          "text": [
            "Sequential(\n",
            "  (0): Linear(in_features=3, out_features=64, bias=True)\n",
            "  (1): Tanh()\n",
            "  (2): Dropout(p=0.4, inplace=False)\n",
            "  (3): Linear(in_features=64, out_features=64, bias=True)\n",
            "  (4): Tanh()\n",
            "  (5): Dropout(p=0.3, inplace=False)\n",
            "  (6): Linear(in_features=64, out_features=1, bias=True)\n",
            ")\n"
          ],
          "name": "stdout"
        }
      ]
    },
    {
      "cell_type": "code",
      "metadata": {
        "colab": {
          "base_uri": "https://localhost:8080/"
        },
        "id": "2XKBd53D-j14",
        "outputId": "7bee3de0-b570-4497-8a91-e85d2f6eae23"
      },
      "source": [
        "# initialize weights\r\n",
        "def xavier_init_weights(m):\r\n",
        "    if type(m) == nn.Linear:\r\n",
        "        nn.init.xavier_uniform_(m.weight)\r\n",
        "\r\n",
        "net.apply(xavier_init_weights)"
      ],
      "execution_count": 5,
      "outputs": [
        {
          "output_type": "execute_result",
          "data": {
            "text/plain": [
              "Sequential(\n",
              "  (0): Linear(in_features=3, out_features=64, bias=True)\n",
              "  (1): Tanh()\n",
              "  (2): Dropout(p=0.4, inplace=False)\n",
              "  (3): Linear(in_features=64, out_features=64, bias=True)\n",
              "  (4): Tanh()\n",
              "  (5): Dropout(p=0.3, inplace=False)\n",
              "  (6): Linear(in_features=64, out_features=1, bias=True)\n",
              ")"
            ]
          },
          "metadata": {
            "tags": []
          },
          "execution_count": 5
        }
      ]
    },
    {
      "cell_type": "code",
      "metadata": {
        "colab": {
          "base_uri": "https://localhost:8080/"
        },
        "id": "A67Nfn52-vbM",
        "outputId": "35c92b1c-6f49-4e9a-f2dc-5519efffb29f"
      },
      "source": [
        "print(net[0])\r\n",
        "print(net[1])\r\n",
        "print(net[2])\r\n",
        "print(net[3])\r\n",
        "print(net[4])"
      ],
      "execution_count": 6,
      "outputs": [
        {
          "output_type": "stream",
          "text": [
            "Linear(in_features=3, out_features=64, bias=True)\n",
            "Tanh()\n",
            "Dropout(p=0.4, inplace=False)\n",
            "Linear(in_features=64, out_features=64, bias=True)\n",
            "Tanh()\n"
          ],
          "name": "stdout"
        }
      ]
    },
    {
      "cell_type": "markdown",
      "metadata": {
        "id": "-auhVatj_K0k"
      },
      "source": [
        "**2. Loss Functions**\r\n",
        "\r\n",
        "(Go to top)\r\n",
        "\r\n",
        "We can select loss functions according to our problem. A full list of supported Loss functions in PyTorch are available here.\r\n",
        "\r\n",
        "Let's go over some popular loss functions and see how to call a built-in loss function:\r\n",
        "\r\n",
        "Binary Cross-entropy Loss: A common used loss function for binary classification.\r\n",
        "\r\n",
        "loss = nn.BCELoss()\r\n",
        "Categorical Cross-entropy Loss: A common used loss function for multi-class classification.\r\n",
        "\r\n",
        "loss = nn.CrossEntropyLoss()\r\n",
        "MSE Loss: One of the most common loss functions for regression problems.\r\n",
        "\r\n",
        "loss = nn.MSELoss()\r\n",
        "L1 Loss: This is similar to L2 loss. It measures the abolsute difference between target values (y) and predictions (p).$$\r\n",
        "\\mathrm{L1 loss} = \\frac{1}{2} \\sum_{examples}|y - p|\r\n",
        "$$In pytorch, we can use it with L1Loss:\r\n",
        "\r\n",
        "loss = nn.L1Loss()"
      ]
    },
    {
      "cell_type": "markdown",
      "metadata": {
        "id": "nL0Cwaz7_Jps"
      },
      "source": [
        "**3. Training**\r\n",
        "\r\n",
        "(Go to top)\r\n",
        "\r\n",
        "torch.optim module provides necessary optimization algorithms for neural networks. We can use the following Optimizers to train a network using Stochastic Gradient Descent (SGD) method and learning rate of 0.001."
      ]
    },
    {
      "cell_type": "code",
      "metadata": {
        "id": "1RKIc_sk_IV0"
      },
      "source": [
        "optimizer = torch.optim.SGD(net.parameters(), lr=0.001)"
      ],
      "execution_count": 7,
      "outputs": []
    },
    {
      "cell_type": "markdown",
      "metadata": {
        "id": "EYth7Fyk_F10"
      },
      "source": [
        "**4. Example - Binary Classification**\r\n",
        "\r\n",
        "(Go to top)\r\n",
        "\r\n",
        "Let's train a neural network on a random dataset. We have two classes and will learn to classify them."
      ]
    },
    {
      "cell_type": "code",
      "metadata": {
        "id": "pdN2biE4_gDM"
      },
      "source": [
        "from sklearn.datasets import make_circles\r\n",
        "\r\n",
        "X, y = make_circles(n_samples=750, shuffle=True, random_state=42, noise=0.05, factor=0.3)"
      ],
      "execution_count": 8,
      "outputs": []
    },
    {
      "cell_type": "code",
      "metadata": {
        "colab": {
          "base_uri": "https://localhost:8080/",
          "height": 301
        },
        "id": "duoJDLaz_psc",
        "outputId": "7d5bfcb9-0e6a-44aa-99a6-37624ada7685"
      },
      "source": [
        "import matplotlib.pyplot as plt\r\n",
        "import seaborn as sns\r\n",
        "\r\n",
        "def plot_dataset(X, y, title):\r\n",
        "    \r\n",
        "    # Activate Seaborn visualization\r\n",
        "    sns.set()\r\n",
        "    \r\n",
        "    # Plot both classes: Class1->Blue, Class2->Red\r\n",
        "    plt.scatter(X[y==1, 0], X[y==1, 1], c='blue', label=\"class 1\")\r\n",
        "    plt.scatter(X[y==0, 0], X[y==0, 1], c='red', label=\"class 2\")\r\n",
        "    plt.legend(loc='upper right')\r\n",
        "    plt.xlabel('x1')\r\n",
        "    plt.ylabel('x2')\r\n",
        "    plt.xlim(-2, 2)\r\n",
        "    plt.ylim(-2, 2)\r\n",
        "    plt.title(title)\r\n",
        "    plt.show()\r\n",
        "    \r\n",
        "plot_dataset(X, y, title=\"Dataset\")"
      ],
      "execution_count": 9,
      "outputs": [
        {
          "output_type": "display_data",
          "data": {
            "image/png": "[encoded data removed]",
            "text/plain": [
              "<Figure size 432x288 with 1 Axes>"
            ]
          },
          "metadata": {
            "tags": []
          }
        }
      ]
    },
    {
      "cell_type": "markdown",
      "metadata": {
        "id": "_QHlPrfMAfBc"
      },
      "source": [
        "---"
      ]
    },
    {
      "cell_type": "code",
      "metadata": {
        "id": "1FIe23HaAufE"
      },
      "source": [
        "net = nn.Sequential(\r\n",
        "    nn.Linear(in_features=2, out_features=10),\r\n",
        "    nn.ReLU(),\r\n",
        "    nn.Linear(10, 10),\r\n",
        "    nn.ReLU(),\r\n",
        "    nn.Linear(10, 1),\r\n",
        "    nn.Sigmoid()\r\n",
        ")"
      ],
      "execution_count": 10,
      "outputs": []
    },
    {
      "cell_type": "code",
      "metadata": {
        "id": "YnWKhGmwBDNx"
      },
      "source": [
        "batch_size = 4\r\n",
        "epochs = 50\r\n",
        "learning_rate = 0.01\r\n",
        "device = torch.device(\"cuda:0\" if torch.cuda.is_available() else \"cpu\")\r\n",
        "\r\n",
        "loss = nn.BCELoss(reduction=\"none\")\r\n",
        "optimizer = torch.optim.SGD(net.parameters(), lr=learning_rate)"
      ],
      "execution_count": 11,
      "outputs": []
    },
    {
      "cell_type": "code",
      "metadata": {
        "id": "wRnFkELCBeqd"
      },
      "source": [
        "X_train, X_val = X[0:int(len(X)*0.8), :], X[int(len(X)*0.8):, :]\r\n",
        "y_train, y_val = y[:int(len(X)*0.8)], y[int(len(X)*0.8):]\r\n",
        "\r\n",
        "# use PyTorch DataLoaders to load the data in batches\r\n",
        "train_dataset = torch.utils.data.TensorDataset(torch.tensor(X_train, dtype=torch.float32), torch.tensor(y_train, dtype=torch.float32))\r\n",
        "train_loader = torch.utils.data.DataLoader(train_dataset, batch_size=batch_size)\r\n",
        "\r\n",
        "# move validation dataset on CPU/GPU device\r\n",
        "X_val = torch.tensor(X_val, dtype=torch.float32)\r\n",
        "y_val = torch.tensor(y_val, dtype=torch.float32)"
      ],
      "execution_count": 15,
      "outputs": []
    },
    {
      "cell_type": "code",
      "metadata": {
        "colab": {
          "base_uri": "https://localhost:8080/"
        },
        "id": "YQAIkC50CxTo",
        "outputId": "b424086f-511c-4366-dd4b-a2cf432165ee"
      },
      "source": [
        "# start training\r\n",
        "\r\n",
        "train_losses = []\r\n",
        "val_losses = []\r\n",
        "\r\n",
        "for epoch in range(epochs):\r\n",
        "    start = time.time()\r\n",
        "    training_loss = 0\r\n",
        "    for idx, (data, target) in enumerate(train_loader):\r\n",
        "        #zero paramater gradients\r\n",
        "        optimizer.zero_grad()\r\n",
        "\r\n",
        "        data = data.to(device)\r\n",
        "        target = target.to(device).view(-1, 1)\r\n",
        "        \r\n",
        "        output = net(data)\r\n",
        "        L = loss(output, target).sum()\r\n",
        "        training_loss += L.item()\r\n",
        "        L.backward()\r\n",
        "        optimizer.step()\r\n",
        "\r\n",
        "    # get validation preds\r\n",
        "    val_predictions = net(X_val)\r\n",
        "    val_loss = torch.sum(loss(val_predictions, y_val.view(-1, 1))).item()\r\n",
        "\r\n",
        "    # take the average losses\r\n",
        "    training_loss = training_loss / len(y_train)\r\n",
        "    val_loss = val_loss / len(y_val)\r\n",
        "\r\n",
        "    train_losses.append(training_loss)\r\n",
        "    val_losses.append(val_loss)\r\n",
        "\r\n",
        "    end = time.time()\r\n",
        "    print(f\"Epoch-{epoch} Train loss: {training_loss}  Validation loss: {val_loss}  Time(sec): {end-start}\")"
      ],
      "execution_count": 18,
      "outputs": [
        {
          "output_type": "stream",
          "text": [
            "Epoch-0 Train loss: 0.6903538854916891  Validation loss: 0.6860828653971354  Time(sec): 0.2354276180267334\n",
            "Epoch-1 Train loss: 0.6807338694731394  Validation loss: 0.6727889506022136  Time(sec): 0.11622786521911621\n",
            "Epoch-2 Train loss: 0.6576992348829905  Validation loss: 0.6446551005045573  Time(sec): 0.11269307136535645\n",
            "Epoch-3 Train loss: 0.6111911326646805  Validation loss: 0.5929249064127604  Time(sec): 0.10860466957092285\n",
            "Epoch-4 Train loss: 0.5368986217180888  Validation loss: 0.5236824035644532  Time(sec): 0.11224174499511719\n",
            "Epoch-5 Train loss: 0.4499088157216708  Validation loss: 0.44088109334309894  Time(sec): 0.10656237602233887\n",
            "Epoch-6 Train loss: 0.350503372947375  Validation loss: 0.3309692128499349  Time(sec): 0.11458945274353027\n",
            "Epoch-7 Train loss: 0.23192666252454122  Validation loss: 0.20286368052164713  Time(sec): 0.10623645782470703\n",
            "Epoch-8 Train loss: 0.12362749521931013  Validation loss: 0.10580285390218098  Time(sec): 0.12323284149169922\n",
            "Epoch-9 Train loss: 0.063073907357951  Validation loss: 0.056259384155273436  Time(sec): 0.11121058464050293\n",
            "Epoch-10 Train loss: 0.036250723712146285  Validation loss: 0.03376463890075684  Time(sec): 0.10792922973632812\n",
            "Epoch-11 Train loss: 0.023639545785263182  Validation loss: 0.023020699818929038  Time(sec): 0.10809898376464844\n",
            "Epoch-12 Train loss: 0.016931426006679733  Validation loss: 0.0171232000986735  Time(sec): 0.10990357398986816\n",
            "Epoch-13 Train loss: 0.012920593465678394  Validation loss: 0.013503947257995606  Time(sec): 0.10635161399841309\n",
            "Epoch-14 Train loss: 0.010300166692274312  Validation loss: 0.011083219051361084  Time(sec): 0.12456893920898438\n",
            "Epoch-15 Train loss: 0.008468591747805477  Validation loss: 0.009347750345865885  Time(sec): 0.1079249382019043\n",
            "Epoch-16 Train loss: 0.007137268198809276  Validation loss: 0.008063100179036458  Time(sec): 0.1104273796081543\n",
            "Epoch-17 Train loss: 0.006135962446763491  Validation loss: 0.007088701725006103  Time(sec): 0.12257957458496094\n",
            "Epoch-18 Train loss: 0.005357755846343935  Validation loss: 0.006340586344401042  Time(sec): 0.11431884765625\n",
            "Epoch-19 Train loss: 0.004745384664662803  Validation loss: 0.005724029541015625  Time(sec): 0.10923886299133301\n",
            "Epoch-20 Train loss: 0.004249806846880044  Validation loss: 0.00519111434618632  Time(sec): 0.10844230651855469\n",
            "Epoch-21 Train loss: 0.003840503775087806  Validation loss: 0.004745437304178874  Time(sec): 0.1068580150604248\n",
            "Epoch-22 Train loss: 0.0034963818385343377  Validation loss: 0.00436394214630127  Time(sec): 0.11459493637084961\n",
            "Epoch-23 Train loss: 0.003201859075537262  Validation loss: 0.004038297335306804  Time(sec): 0.10573792457580566\n",
            "Epoch-24 Train loss: 0.002946668565661336  Validation loss: 0.0037604339917500815  Time(sec): 0.10927367210388184\n",
            "Epoch-25 Train loss: 0.002725366347973856  Validation loss: 0.003517245451609294  Time(sec): 0.11012983322143555\n",
            "Epoch-26 Train loss: 0.0025302804802777245  Validation loss: 0.0033030221859614056  Time(sec): 0.11522936820983887\n",
            "Epoch-27 Train loss: 0.002358209151037348  Validation loss: 0.0031136141220728555  Time(sec): 0.11275863647460938\n",
            "Epoch-28 Train loss: 0.002206224441664138  Validation loss: 0.0029423689842224122  Time(sec): 0.11097240447998047\n",
            "Epoch-29 Train loss: 0.0020698841839718323  Validation loss: 0.002790865103403727  Time(sec): 0.10666179656982422\n",
            "Epoch-30 Train loss: 0.0019480002602601113  Validation loss: 0.002654031316439311  Time(sec): 0.11158251762390137\n",
            "Epoch-31 Train loss: 0.001838762636568087  Validation loss: 0.0025303822755813597  Time(sec): 0.10508537292480469\n",
            "Epoch-32 Train loss: 0.0017405270219508868  Validation loss: 0.0024183928966522218  Time(sec): 0.10804939270019531\n",
            "Epoch-33 Train loss: 0.001651745361838645  Validation loss: 0.002316057284673055  Time(sec): 0.11242341995239258\n",
            "Epoch-34 Train loss: 0.0015711343881169644  Validation loss: 0.0022220871845881145  Time(sec): 0.1275346279144287\n",
            "Epoch-35 Train loss: 0.00149756107343516  Validation loss: 0.0021360290050506593  Time(sec): 0.12906885147094727\n",
            "Epoch-36 Train loss: 0.001430123168878102  Validation loss: 0.0020559934775034585  Time(sec): 0.14539599418640137\n",
            "Epoch-37 Train loss: 0.0013679544749902561  Validation loss: 0.001981319785118103  Time(sec): 0.1345386505126953\n",
            "Epoch-38 Train loss: 0.0013105493227097515  Validation loss: 0.001912038524945577  Time(sec): 0.12985777854919434\n",
            "Epoch-39 Train loss: 0.0012574536151563128  Validation loss: 0.0018476146459579469  Time(sec): 0.10828471183776855\n",
            "Epoch-40 Train loss: 0.0012082692536932883  Validation loss: 0.0017872852087020873  Time(sec): 0.11701416969299316\n",
            "Epoch-41 Train loss: 0.0011625297271530145  Validation loss: 0.0017309919993082682  Time(sec): 0.13152670860290527\n",
            "Epoch-42 Train loss: 0.0011198489401916352  Validation loss: 0.0016781628131866456  Time(sec): 0.1278376579284668\n",
            "Epoch-43 Train loss: 0.0010800339753041044  Validation loss: 0.0016286047299702963  Time(sec): 0.14158892631530762\n",
            "Epoch-44 Train loss: 0.0010427284249453805  Validation loss: 0.0015815155704816182  Time(sec): 0.1458902359008789\n",
            "Epoch-45 Train loss: 0.0010076618309540208  Validation loss: 0.0015374418099721272  Time(sec): 0.13558006286621094\n",
            "Epoch-46 Train loss: 0.0009747452842323886  Validation loss: 0.0014960625767707824  Time(sec): 0.11734485626220703\n",
            "Epoch-47 Train loss: 0.0009437822762023036  Validation loss: 0.001456845502058665  Time(sec): 0.10936260223388672\n",
            "Epoch-48 Train loss: 0.0009145818266066878  Validation loss: 0.0014196783304214478  Time(sec): 0.11231875419616699\n",
            "Epoch-49 Train loss: 0.0008870329312533916  Validation loss: 0.001384416123231252  Time(sec): 0.1183774471282959\n"
          ],
          "name": "stdout"
        }
      ]
    },
    {
      "cell_type": "code",
      "metadata": {
        "colab": {
          "base_uri": "https://localhost:8080/",
          "height": 301
        },
        "id": "MT0vbqpvEzPT",
        "outputId": "9dcd7741-84c2-4720-c6fe-652f9f16f3b5"
      },
      "source": [
        "%matplotlib inline\r\n",
        "import matplotlib.pyplot as plt\r\n",
        "import seaborn as sns\r\n",
        "\r\n",
        "plt.plot(train_losses, label=\"Training Loss\")\r\n",
        "plt.plot(val_losses, label=\"Validation Loss\")\r\n",
        "plt.title(\"Loss values\")\r\n",
        "plt.xlabel(\"Epoch\")\r\n",
        "plt.ylabel(\"Loss\")\r\n",
        "plt.legend()\r\n",
        "plt.show()"
      ],
      "execution_count": 19,
      "outputs": [
        {
          "output_type": "display_data",
          "data": {
            "image/png": "[encoded data removed]",
            "text/plain": [
              "<Figure size 432x288 with 1 Axes>"
            ]
          },
          "metadata": {
            "tags": [],
            "needs_background": "light"
          }
        }
      ]
    },
    {
      "cell_type": "code",
      "metadata": {
        "id": "bhZRFxk6FYyV"
      },
      "source": [
        ""
      ],
      "execution_count": null,
      "outputs": []
    }
  ]
}